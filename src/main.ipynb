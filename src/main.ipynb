{
 "cells": [
  {
   "cell_type": "markdown",
   "id": "d6292391",
   "metadata": {},
   "source": [
    "# Stock Portfolio Tracker\n",
    "This notebook implements a stock portfolio tracking system that allows you to:\n",
    "- Buy stocks\n",
    "- Sell stocks\n",
    "- View your portfolio"
   ]
  },
  {
   "cell_type": "code",
   "execution_count": 8,
   "id": "94050fed",
   "metadata": {},
   "outputs": [],
   "source": [
    "# Import required modules\n",
    "import sys\n",
    "import os\n",
    "\n",
    "# Add the src directory to Python path\n",
    "notebook_path = os.path.abspath('')  # Gets the current notebook's directory\n",
    "sys.path.append(notebook_path)\n",
    "\n",
    "from stock_ledger import StockLedger"
   ]
  },
  {
   "cell_type": "code",
   "execution_count": 9,
   "id": "9e67450e",
   "metadata": {},
   "outputs": [],
   "source": [
    "# Create a new stock ledger\n",
    "ledger = StockLedger()"
   ]
  },
  {
   "cell_type": "markdown",
   "id": "226c4289",
   "metadata": {},
   "source": [
    "# Example Operations\n",
    "Below are example operations you can perform with the stock ledger. Run each cell to see the results."
   ]
  },
  {
   "cell_type": "code",
   "execution_count": 10,
   "id": "fc13933f",
   "metadata": {},
   "outputs": [
    {
     "name": "stdout",
     "output_type": "stream",
     "text": [
      "Buying initial stocks...\n",
      "\n",
      "Initial Portfolio:\n",
      "------------------\n",
      "---- Stock Ledger ----\n",
      "AAPL: 45 (20 shares), 75 (20 shares)\n",
      "MSFT: 95 (20 shares)\n",
      "\n"
     ]
    }
   ],
   "source": [
    "# Initial purchases of AAPL and MSFT\n",
    "print(\"Buying initial stocks...\")\n",
    "ledger.buy(\"AAPL\", 20, 45)\n",
    "ledger.buy(\"AAPL\", 20, 75)\n",
    "ledger.buy(\"MSFT\", 20, 95)\n",
    "print(\"\\nInitial Portfolio:\")\n",
    "print(\"------------------\")\n",
    "ledger.display_ledger()"
   ]
  },
  {
   "cell_type": "code",
   "execution_count": 11,
   "id": "a3d2a3b3",
   "metadata": {},
   "outputs": [
    {
     "name": "stdout",
     "output_type": "stream",
     "text": [
      "\n",
      "Selling 30 shares of AAPL...\n",
      "Sold 30 shares of AAPL for profit/loss: 300\n",
      "\n",
      "Portfolio after first AAPL sale:\n",
      "--------------------------------\n",
      "---- Stock Ledger ----\n",
      "AAPL: 75 (10 shares)\n",
      "MSFT: 95 (20 shares)\n",
      "\n",
      "\n",
      "Selling 10 more shares of AAPL...\n",
      "Sold 10 shares of AAPL for profit/loss: -100\n",
      "\n",
      "Portfolio after second AAPL sale:\n",
      "---------------------------------\n",
      "---- Stock Ledger ----\n",
      "AAPL: \n",
      "MSFT: 95 (20 shares)\n",
      "\n"
     ]
    }
   ],
   "source": [
    "# First round of AAPL sales\n",
    "print(\"\\nSelling 30 shares of AAPL...\")\n",
    "ledger.sell(\"AAPL\", 30, 65)\n",
    "print(\"\\nPortfolio after first AAPL sale:\")\n",
    "print(\"--------------------------------\")\n",
    "ledger.display_ledger()\n",
    "\n",
    "print(\"\\nSelling 10 more shares of AAPL...\")\n",
    "ledger.sell(\"AAPL\", 10, 65)\n",
    "print(\"\\nPortfolio after second AAPL sale:\")\n",
    "print(\"---------------------------------\")\n",
    "ledger.display_ledger()"
   ]
  },
  {
   "cell_type": "code",
   "execution_count": 12,
   "id": "63042bd7",
   "metadata": {},
   "outputs": [
    {
     "name": "stdout",
     "output_type": "stream",
     "text": [
      "\n",
      "Buying more stocks...\n",
      "\n",
      "Portfolio after new purchases:\n",
      "-----------------------------\n",
      "---- Stock Ledger ----\n",
      "AAPL: 20 (100 shares), 24 (20 shares)\n",
      "MSFT: 95 (20 shares)\n",
      "TSLA: 36 (200 shares)\n",
      "\n",
      "\n",
      "Selling 10 more shares of AAPL...\n",
      "Sold 10 shares of AAPL for profit/loss: 450\n",
      "\n",
      "Portfolio after third AAPL sale:\n",
      "--------------------------------\n",
      "---- Stock Ledger ----\n",
      "AAPL: 20 (90 shares), 24 (20 shares)\n",
      "MSFT: 95 (20 shares)\n",
      "TSLA: 36 (200 shares)\n",
      "\n",
      "\n",
      "Selling 150 shares of TSLA...\n",
      "Sold 150 shares of TSLA for profit/loss: -900\n",
      "\n",
      "Portfolio after TSLA sale:\n",
      "--------------------------\n",
      "---- Stock Ledger ----\n",
      "AAPL: 20 (90 shares), 24 (20 shares)\n",
      "MSFT: 95 (20 shares)\n",
      "TSLA: 36 (50 shares)\n",
      "\n"
     ]
    }
   ],
   "source": [
    "# Additional stock purchases\n",
    "print(\"\\nBuying more stocks...\")\n",
    "ledger.buy(\"AAPL\", 100, 20)\n",
    "ledger.buy(\"AAPL\", 20, 24)\n",
    "ledger.buy(\"TSLA\", 200, 36)\n",
    "print(\"\\nPortfolio after new purchases:\")\n",
    "print(\"-----------------------------\")\n",
    "ledger.display_ledger()\n",
    "\n",
    "print(\"\\nSelling 10 more shares of AAPL...\")\n",
    "ledger.sell(\"AAPL\", 10, 65)\n",
    "print(\"\\nPortfolio after third AAPL sale:\")\n",
    "print(\"--------------------------------\")\n",
    "ledger.display_ledger()\n",
    "\n",
    "print(\"\\nSelling 150 shares of TSLA...\")\n",
    "ledger.sell(\"TSLA\", 150, 30)\n",
    "print(\"\\nPortfolio after TSLA sale:\")\n",
    "print(\"--------------------------\")\n",
    "ledger.display_ledger()"
   ]
  },
  {
   "cell_type": "code",
   "execution_count": 13,
   "id": "797c8f8d",
   "metadata": {},
   "outputs": [
    {
     "name": "stdout",
     "output_type": "stream",
     "text": [
      "\n",
      "Buying more MSFT shares...\n",
      "\n",
      "Portfolio after MSFT purchases:\n",
      "------------------------------\n",
      "---- Stock Ledger ----\n",
      "AAPL: 20 (90 shares), 24 (20 shares)\n",
      "MSFT: 95 (20 shares), 60 (5 shares), 70 (5 shares)\n",
      "TSLA: 36 (50 shares)\n",
      "\n",
      "\n",
      "Selling 4 shares of MSFT...\n",
      "Sold 4 shares of MSFT for profit/loss: -260\n",
      "\n",
      "Portfolio after first MSFT sale:\n",
      "--------------------------------\n",
      "---- Stock Ledger ----\n",
      "AAPL: 20 (90 shares), 24 (20 shares)\n",
      "MSFT: 95 (16 shares), 60 (5 shares), 70 (5 shares)\n",
      "TSLA: 36 (50 shares)\n",
      "\n",
      "\n",
      "Selling 2 more shares of MSFT...\n",
      "Sold 2 shares of MSFT for profit/loss: -130\n",
      "\n",
      "Final Portfolio:\n",
      "---------------\n",
      "---- Stock Ledger ----\n",
      "AAPL: 20 (90 shares), 24 (20 shares)\n",
      "MSFT: 95 (14 shares), 60 (5 shares), 70 (5 shares)\n",
      "TSLA: 36 (50 shares)\n",
      "\n"
     ]
    }
   ],
   "source": [
    "# Final round of transactions\n",
    "print(\"\\nBuying more MSFT shares...\")\n",
    "ledger.buy(\"MSFT\", 5, 60)\n",
    "ledger.buy(\"MSFT\", 5, 70)\n",
    "print(\"\\nPortfolio after MSFT purchases:\")\n",
    "print(\"------------------------------\")\n",
    "ledger.display_ledger()\n",
    "\n",
    "print(\"\\nSelling 4 shares of MSFT...\")\n",
    "ledger.sell(\"MSFT\", 4, 30)\n",
    "print(\"\\nPortfolio after first MSFT sale:\")\n",
    "print(\"--------------------------------\")\n",
    "ledger.display_ledger()\n",
    "\n",
    "print(\"\\nSelling 2 more shares of MSFT...\")\n",
    "ledger.sell(\"MSFT\", 2, 30)\n",
    "print(\"\\nFinal Portfolio:\")\n",
    "print(\"---------------\")\n",
    "ledger.display_ledger()"
   ]
  }
 ],
 "metadata": {
  "kernelspec": {
   "display_name": ".venv",
   "language": "python",
   "name": "python3"
  },
  "language_info": {
   "codemirror_mode": {
    "name": "ipython",
    "version": 3
   },
   "file_extension": ".py",
   "mimetype": "text/x-python",
   "name": "python",
   "nbconvert_exporter": "python",
   "pygments_lexer": "ipython3",
   "version": "3.14.0"
  }
 },
 "nbformat": 4,
 "nbformat_minor": 5
}
