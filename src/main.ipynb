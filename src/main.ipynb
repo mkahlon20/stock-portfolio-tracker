{
 "cells": [
  {
   "cell_type": "markdown",
   "id": "d6292391",
   "metadata": {},
   "source": [
    "# Stock Portfolio Tracker\n",
    "This notebook implements a stock portfolio tracking system that allows you to:\n",
    "- Buy stocks\n",
    "- Sell stocks\n",
    "- View your portfolio"
   ]
  },
  {
   "cell_type": "code",
   "execution_count": null,
   "id": "94050fed",
   "metadata": {},
   "outputs": [],
   "source": [
    "# Import required modules\n",
    "import sys\n",
    "import os\n",
    "\n",
    "# Add the src directory to Python path\n",
    "sys.path.append(os.path.dirname(os.path.abspath(__file__)))\n",
    "\n",
    "from stock_ledger import StockLedger"
   ]
  },
  {
   "cell_type": "code",
   "execution_count": null,
   "id": "9e67450e",
   "metadata": {},
   "outputs": [],
   "source": [
    "# Create a new stock ledger\n",
    "ledger = StockLedger()\n",
    "\n",
    "print(\"Welcome to Stock Portfolio Tracker!\")\n",
    "print(\"----------------------------------\")"
   ]
  },
  {
   "cell_type": "code",
   "execution_count": null,
   "id": "69f22331",
   "metadata": {},
   "outputs": [],
   "source": [
    "def buy_stock(ledger):\n",
    "    symbol = input(\"Enter stock symbol (e.g., AAPL): \").upper()\n",
    "    try:\n",
    "        shares = int(input(\"Enter number of shares: \"))\n",
    "        price = float(input(\"Enter price per share: $\"))\n",
    "        ledger.buy(symbol, shares, price)\n",
    "        print(f\"\\nBought {shares} shares of {symbol} at ${price:.2f}\")\n",
    "    except ValueError:\n",
    "        print(\"Invalid input. Please enter valid numbers.\")\n",
    "\n",
    "def sell_stock(ledger):\n",
    "    symbol = input(\"Enter stock symbol (e.g., AAPL): \").upper()\n",
    "    try:\n",
    "        shares = int(input(\"Enter number of shares to sell: \"))\n",
    "        price = float(input(\"Enter selling price per share: $\"))\n",
    "        ledger.sell(symbol, shares, price)\n",
    "    except ValueError as e:\n",
    "        print(f\"Error: {e}\")\n",
    "\n",
    "def view_portfolio(ledger):\n",
    "    print(\"\\nCurrent Portfolio:\")\n",
    "    print(\"-----------------\")\n",
    "    ledger.display_ledger()"
   ]
  },
  {
   "cell_type": "code",
   "execution_count": null,
   "id": "b4ff072d",
   "metadata": {},
   "outputs": [],
   "source": [
    "# Main program loop\n",
    "while True:\n",
    "    print(\"\\nOptions:\")\n",
    "    print(\"1. Buy stock\")\n",
    "    print(\"2. Sell stock\")\n",
    "    print(\"3. View portfolio\")\n",
    "    print(\"4. Exit\")\n",
    "    \n",
    "    choice = input(\"\\nEnter your choice (1-4): \")\n",
    "    \n",
    "    if choice == \"1\":\n",
    "        buy_stock(ledger)\n",
    "    elif choice == \"2\":\n",
    "        sell_stock(ledger)\n",
    "    elif choice == \"3\":\n",
    "        view_portfolio(ledger)\n",
    "    elif choice == \"4\":\n",
    "        print(\"\\nThank you for using Stock Portfolio Tracker!\")\n",
    "        break\n",
    "    else:\n",
    "        print(\"Invalid choice. Please enter 1-4.\")"
   ]
  }
 ],
 "metadata": {
  "kernelspec": {
   "display_name": ".venv",
   "language": "python",
   "name": "python3"
  },
  "language_info": {
   "codemirror_mode": {
    "name": "ipython",
    "version": 3
   },
   "file_extension": ".py",
   "mimetype": "text/x-python",
   "name": "python",
   "nbconvert_exporter": "python",
   "pygments_lexer": "ipython3",
   "version": "3.14.0"
  }
 },
 "nbformat": 4,
 "nbformat_minor": 5
}
